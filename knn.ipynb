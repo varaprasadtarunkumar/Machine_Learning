{
  "nbformat": 4,
  "nbformat_minor": 0,
  "metadata": {
    "colab": {
      "provenance": []
    },
    "kernelspec": {
      "name": "python3",
      "display_name": "Python 3"
    },
    "language_info": {
      "name": "python"
    }
  },
  "cells": [
    {
      "cell_type": "code",
      "execution_count": null,
      "metadata": {
        "id": "6u49iET_ULcu"
      },
      "outputs": [],
      "source": [
        "import numpy as np\n",
        "import pandas as pd\n",
        "import matplotlib.pyplot as plt\n",
        "from collections import Counter"
      ]
    },
    {
      "cell_type": "code",
      "source": [
        "from google.colab import drive\n",
        "drive.mount('/googledrive')"
      ],
      "metadata": {
        "colab": {
          "base_uri": "https://localhost:8080/"
        },
        "id": "kLHYkVi2UVo-",
        "outputId": "d1946965-4a36-461c-af94-18edb720747d"
      },
      "execution_count": null,
      "outputs": [
        {
          "output_type": "stream",
          "name": "stdout",
          "text": [
            "Mounted at /googledrive\n"
          ]
        }
      ]
    },
    {
      "cell_type": "code",
      "source": [
        "df=pd.read_csv('/content/drive/MyDrive/MachineLearning/KNN/iris.csv')\n",
        "print(df)"
      ],
      "metadata": {
        "colab": {
          "base_uri": "https://localhost:8080/"
        },
        "id": "0BYK5s-4Urph",
        "outputId": "610e87a4-c3e3-499f-b335-d56b9b153428"
      },
      "execution_count": null,
      "outputs": [
        {
          "output_type": "stream",
          "name": "stdout",
          "text": [
            "    Sepal Length  Sepal Width      Species\n",
            "0            5.3          3.7       Setosa\n",
            "1            5.1          3.8       Setosa\n",
            "2            7.2          3.0    Virginica\n",
            "3            5.4          3.4       Setosa\n",
            "4            5.1          3.3       Setosa\n",
            "5            5.4          3.9       Setosa\n",
            "6            7.4          2.8    Virginica\n",
            "7            6.1          2.8  Verscicolor\n",
            "8            6.0          2.7  Verscicolor\n",
            "9            5.8          2.8    Virginica\n",
            "10           6.3          2.3  Verscicolor\n",
            "11           5.1          2.5  Verscicolor\n",
            "12           6.3          2.5  Verscicolor\n",
            "13           5.5          2.4  Verscicolor\n",
            "14           5.2          3.1       Setosa\n",
            "15           7.3          2.9    Virginica\n"
          ]
        }
      ]
    },
    {
      "cell_type": "code",
      "source": [
        "#Preprocessing\n",
        "x=df.iloc[:,:-1].values\n",
        "y=df.iloc[:,-1].values\n",
        "x_train=x[:-3,:]\n",
        "y_train=y[:-3]\n",
        "x_test=x[-3:,:]\n",
        "y_test=y[-3:]\n",
        "print(\"x_train : \\n\",x_train)\n",
        "print(\"y_train : \\n\",y_train)\n",
        "print(\"x_test : \\n\",x_test)\n",
        "print(\"y_test : \\n\",y_test)\n"
      ],
      "metadata": {
        "colab": {
          "base_uri": "https://localhost:8080/"
        },
        "id": "kpiCFYTAVTK_",
        "outputId": "5d14e577-5115-4d17-fdb2-131ea831aef9"
      },
      "execution_count": null,
      "outputs": [
        {
          "output_type": "stream",
          "name": "stdout",
          "text": [
            "x_train : \n",
            " [[5.3 3.7]\n",
            " [5.1 3.8]\n",
            " [7.2 3. ]\n",
            " [5.4 3.4]\n",
            " [5.1 3.3]\n",
            " [5.4 3.9]\n",
            " [7.4 2.8]\n",
            " [6.1 2.8]\n",
            " [6.  2.7]\n",
            " [5.8 2.8]\n",
            " [6.3 2.3]\n",
            " [5.1 2.5]\n",
            " [6.3 2.5]]\n",
            "y_train : \n",
            " ['Setosa' 'Setosa' 'Virginica' 'Setosa' 'Setosa' 'Setosa' 'Virginica'\n",
            " 'Verscicolor' 'Verscicolor' 'Virginica' 'Verscicolor' 'Verscicolor'\n",
            " 'Verscicolor']\n",
            "x_test : \n",
            " [[5.5 2.4]\n",
            " [5.2 3.1]\n",
            " [7.3 2.9]]\n",
            "y_test : \n",
            " ['Verscicolor' 'Setosa' 'Virginica']\n"
          ]
        }
      ]
    },
    {
      "cell_type": "code",
      "source": [
        "def Euclidean_distance(x1,x2):\n",
        "  return np.sqrt(np.sum((x1-x2)**2))"
      ],
      "metadata": {
        "id": "6p3Of_UeWAPg"
      },
      "execution_count": null,
      "outputs": []
    },
    {
      "cell_type": "code",
      "source": [
        "class KNN:\n",
        "  def __init__(self,k=3):\n",
        "    self.k=k\n",
        "\n",
        "  def fit(self,x,y):\n",
        "    self.X_train=x\n",
        "    self.Y_train=y\n",
        "\n",
        "  def predict(self,X):\n",
        "    predicted_labels=[self._predict(x) for x in X]\n",
        "    return np.array(predicted_labels)\n",
        "\n",
        "  def _predict(self,x):\n",
        "    distances=[Euclidean_distance(x,x_train) for x_train in self.X_train]\n",
        "    print(\"distances : \",distances)\n",
        "    k_indices=np.argsort(distances)[:self.k]\n",
        "    print(\"k_indices : \",k_indices)\n",
        "    k_nearest_labels=[self.Y_train[i] for i in k_indices]\n",
        "    most_common=Counter(k_nearest_labels).most_common(1) #list of tuple\n",
        "    # print(\"most_common : \",most_common)\n",
        "    return most_common[0][0]"
      ],
      "metadata": {
        "id": "FBWN_ba5YOC6"
      },
      "execution_count": null,
      "outputs": []
    },
    {
      "cell_type": "code",
      "source": [
        "def accuracy(pred,y):\n",
        "  return np.sum(pred==y)/len(y)"
      ],
      "metadata": {
        "id": "fGioDqpXevHV"
      },
      "execution_count": null,
      "outputs": []
    },
    {
      "cell_type": "code",
      "source": [
        "knn=KNN(k=2)\n",
        "knn.fit(x_train,y_train)\n",
        "predictions=knn.predict(x_test)\n",
        "for i in range(len(predictions)):\n",
        "  print(\"Predicted value\",i+1,\":\",predictions[i])\n",
        "  print(\"Actual value\",i+1,\":\",y_test[i])\n",
        "acc=accuracy(predictions,y_test)\n",
        "print(acc)"
      ],
      "metadata": {
        "colab": {
          "base_uri": "https://localhost:8080/"
        },
        "id": "lMPZcNmYffhx",
        "outputId": "b563a706-1101-4606-f361-a34869afc4f5"
      },
      "execution_count": null,
      "outputs": [
        {
          "output_type": "stream",
          "name": "stdout",
          "text": [
            "distances :  [1.315294643796591, 1.4560219778561037, 1.8027756377319948, 1.004987562112089, 0.9848857801796105, 1.5033296378372907, 1.9416487838947603, 0.7211102550927976, 0.5830951894845302, 0.49999999999999983, 0.8062257748298548, 0.4123105625617664, 0.8062257748298548]\n",
            "k_indices :  [11  9]\n",
            "distances :  [0.608276253029822, 0.7071067811865474, 2.0024984394500787, 0.3605551275463989, 0.22360679774997896, 0.8246211251235319, 2.220360331117452, 0.9486832980505134, 0.8944271909999156, 0.6708203932499367, 1.3601470508735443, 0.6082762530298221, 1.2529964086141665]\n",
            "k_indices :  [4 3]\n",
            "distances :  [2.154065922853802, 2.3769728648009427, 0.1414213562373093, 1.9646882704388495, 2.23606797749979, 2.147091055358388, 0.14142135623730995, 1.2041594578792296, 1.3152946437965902, 1.503329637837291, 1.1661903789690602, 2.23606797749979, 1.0770329614269007]\n",
            "k_indices :  [2 6]\n",
            "Predicted value 1 : Verscicolor\n",
            "Actual value 1 : Verscicolor\n",
            "Predicted value 2 : Setosa\n",
            "Actual value 2 : Setosa\n",
            "Predicted value 3 : Virginica\n",
            "Actual value 3 : Virginica\n",
            "1.0\n"
          ]
        }
      ]
    },
    {
      "cell_type": "code",
      "source": [],
      "metadata": {
        "id": "PVdf8sVmhYOD"
      },
      "execution_count": null,
      "outputs": []
    }
  ]
}